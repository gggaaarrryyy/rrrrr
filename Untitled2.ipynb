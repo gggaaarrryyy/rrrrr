{
  "nbformat": 4,
  "nbformat_minor": 0,
  "metadata": {
    "colab": {
      "provenance": [],
      "authorship_tag": "ABX9TyMJYXmGTv0aqz3x+gYBYStm",
      "include_colab_link": true
    },
    "kernelspec": {
      "name": "python3",
      "display_name": "Python 3"
    },
    "language_info": {
      "name": "python"
    }
  },
  "cells": [
    {
      "cell_type": "markdown",
      "metadata": {
        "id": "view-in-github",
        "colab_type": "text"
      },
      "source": [
        "<a href=\"https://colab.research.google.com/github/gggaaarrryyy/rrrrr/blob/main/Untitled2.ipynb\" target=\"_parent\"><img src=\"https://colab.research.google.com/assets/colab-badge.svg\" alt=\"Open In Colab\"/></a>"
      ]
    },
    {
      "cell_type": "code",
      "execution_count": 1,
      "metadata": {
        "colab": {
          "base_uri": "https://localhost:8080/"
        },
        "id": "zNPBiqbwiSVV",
        "outputId": "8ccaec25-4bc5-4227-cc02-40c265fce4ec"
      },
      "outputs": [
        {
          "output_type": "stream",
          "name": "stdout",
          "text": [
            "請輸入要計算的數字：6\n",
            "這是加5後的答案 11\n",
            "這是輪入的資料型別: <class 'int'>\n"
          ]
        }
      ],
      "source": [
        "a = input('請輸入要計算的數字：')\n",
        "a=int(a)+5 # int ：資料轉型\n",
        "print('這是加5後的答案',a)\n",
        "print('這是輪入的資料型別:',type(a))\n"
      ]
    }
  ]
}