{
  "nbformat": 4,
  "nbformat_minor": 0,
  "metadata": {
    "colab": {
      "provenance": [],
      "authorship_tag": "ABX9TyP53irjqwZcaxx0aKm2BIeq",
      "include_colab_link": true
    },
    "kernelspec": {
      "name": "python3",
      "display_name": "Python 3"
    },
    "language_info": {
      "name": "python"
    }
  },
  "cells": [
    {
      "cell_type": "markdown",
      "metadata": {
        "id": "view-in-github",
        "colab_type": "text"
      },
      "source": [
        "<a href=\"https://colab.research.google.com/github/gggaaarrryyy/rrrrr/blob/main/Untitled2.ipynb\" target=\"_parent\"><img src=\"https://colab.research.google.com/assets/colab-badge.svg\" alt=\"Open In Colab\"/></a>"
      ]
    },
    {
      "cell_type": "code",
      "execution_count": 1,
      "metadata": {
        "colab": {
          "base_uri": "https://localhost:8080/"
        },
        "id": "zNPBiqbwiSVV",
        "outputId": "8ccaec25-4bc5-4227-cc02-40c265fce4ec"
      },
      "outputs": [
        {
          "output_type": "stream",
          "name": "stdout",
          "text": [
            "請輸入要計算的數字：6\n",
            "這是加5後的答案 11\n",
            "這是輪入的資料型別: <class 'int'>\n"
          ]
        }
      ],
      "source": [
        "a = input('請輸入要計算的數字：')\n",
        "a=int(a)+5 # int ：資料轉型\n",
        "print('這是加5後的答案',a)\n",
        "print('這是輪入的資料型別:',type(a))\n"
      ]
    },
    {
      "cell_type": "code",
      "source": [
        "print('加法程式')\n",
        "x, y = input('請輸入兩個整數值> ').split()\n",
        "x = int(x)\n",
        "y = int(y)\n",
        "total = x+y\n",
        "print('答案是', total)\n"
      ],
      "metadata": {
        "colab": {
          "base_uri": "https://localhost:8080/"
        },
        "id": "aFyyPo7imgRk",
        "outputId": "cfbe7282-c36c-488e-d89d-d80ad10e591e"
      },
      "execution_count": 3,
      "outputs": [
        {
          "output_type": "stream",
          "name": "stdout",
          "text": [
            "加法程式\n",
            "請輸入兩個整數值> 99 54\n",
            "答案是 153\n"
          ]
        }
      ]
    },
    {
      "cell_type": "code",
      "source": [
        "t = \"Python 是 一門 強大的 編程 語言\"  # 定義一個包含多個單詞的字符串\n",
        "ans = t.split()  # 使用 split() 方法將字符串按照空格分割成多個單詞\n",
        "print(ans)  # 輸出結果：['Python', '是', '一門', '強大的', '編程', '語言']\n"
      ],
      "metadata": {
        "colab": {
          "base_uri": "https://localhost:8080/"
        },
        "id": "Clu02kmFoECk",
        "outputId": "6d476028-6c48-40cc-e7b1-20e294618897"
      },
      "execution_count": 4,
      "outputs": [
        {
          "output_type": "stream",
          "name": "stdout",
          "text": [
            "['Python', '是', '一門', '強大的', '編程', '語言']\n"
          ]
        }
      ]
    },
    {
      "cell_type": "code",
      "source": [
        "num1 = 50                           # 將整數 50 賦值給變數 num1\n",
        "print(\"The number is\", num1)        # 輸出字串 \"The number is\" 和變數 num1 的值\n",
        "if num1 > 10:                       # 檢查 num1 是否大於 10\n",
        "    print(\"The number is larger than 10\")  # 如果條件為真，輸出 \"The number is larger than 10\"\n",
        "else:                               # 如果條件為假，執行以下區塊\n",
        "    print(\"The number is less than 10\")    # 輸出 \"The number is less than 10\"\n"
      ],
      "metadata": {
        "colab": {
          "base_uri": "https://localhost:8080/"
        },
        "id": "YClF6jxxpbuq",
        "outputId": "9e28e29e-85fb-4f4d-dcad-df5e63bc38b5"
      },
      "execution_count": 5,
      "outputs": [
        {
          "output_type": "stream",
          "name": "stdout",
          "text": [
            "The number is 50\n",
            "The number is larger than 10\n"
          ]
        }
      ]
    }
  ]
}