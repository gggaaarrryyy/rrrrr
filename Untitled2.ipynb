{
  "nbformat": 4,
  "nbformat_minor": 0,
  "metadata": {
    "colab": {
      "provenance": [],
      "authorship_tag": "ABX9TyP1H84XApJqlTrgBA1sYqC8",
      "include_colab_link": true
    },
    "kernelspec": {
      "name": "python3",
      "display_name": "Python 3"
    },
    "language_info": {
      "name": "python"
    }
  },
  "cells": [
    {
      "cell_type": "markdown",
      "metadata": {
        "id": "view-in-github",
        "colab_type": "text"
      },
      "source": [
        "<a href=\"https://colab.research.google.com/github/gggaaarrryyy/rrrrr/blob/main/Untitled2.ipynb\" target=\"_parent\"><img src=\"https://colab.research.google.com/assets/colab-badge.svg\" alt=\"Open In Colab\"/></a>"
      ]
    },
    {
      "cell_type": "code",
      "execution_count": 1,
      "metadata": {
        "colab": {
          "base_uri": "https://localhost:8080/"
        },
        "id": "zNPBiqbwiSVV",
        "outputId": "8ccaec25-4bc5-4227-cc02-40c265fce4ec"
      },
      "outputs": [
        {
          "output_type": "stream",
          "name": "stdout",
          "text": [
            "請輸入要計算的數字：6\n",
            "這是加5後的答案 11\n",
            "這是輪入的資料型別: <class 'int'>\n"
          ]
        }
      ],
      "source": [
        "a = input('請輸入要計算的數字：')\n",
        "a=int(a)+5 # int ：資料轉型\n",
        "print('這是加5後的答案',a)\n",
        "print('這是輪入的資料型別:',type(a))\n"
      ]
    },
    {
      "cell_type": "code",
      "source": [
        "print('加法程式')\n",
        "x, y = input('請輸入兩個整數值> ').split()\n",
        "x = int(x)\n",
        "y = int(y)\n",
        "total = x+y\n",
        "print('答案是', total)\n"
      ],
      "metadata": {
        "colab": {
          "base_uri": "https://localhost:8080/"
        },
        "id": "aFyyPo7imgRk",
        "outputId": "cfbe7282-c36c-488e-d89d-d80ad10e591e"
      },
      "execution_count": 3,
      "outputs": [
        {
          "output_type": "stream",
          "name": "stdout",
          "text": [
            "加法程式\n",
            "請輸入兩個整數值> 99 54\n",
            "答案是 153\n"
          ]
        }
      ]
    }
  ]
}